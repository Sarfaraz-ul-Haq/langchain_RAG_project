{
  "cells": [
    {
      "cell_type": "code",
      "execution_count": 1,
      "metadata": {
        "vscode": {
          "languageId": "plaintext"
        },
        "id": "d8jQzSl5XSXI"
      },
      "outputs": [],
      "source": [
        "%%capture --no-stderr\n",
        "%pip install -q -U langchain-pinecone langchain-google-genai"
      ]
    },
    {
      "cell_type": "code",
      "source": [
        "import os\n",
        "from google.colab import  userdata\n",
        "from pinecone import Pinecone, ServerlessSpec\n",
        "\n",
        "os.environ[\"PINECONE_API_KEY\"] = userdata.get(\"PINECONE_API_KEY\")\n",
        "\n",
        "pinecone_api_key = os.environ.get(\"PINECONE_API_KEY\")\n",
        "\n",
        "pc = Pinecone(api_key=pinecone_api_key)"
      ],
      "metadata": {
        "id": "L7IKb1UaaEuI"
      },
      "execution_count": 2,
      "outputs": []
    },
    {
      "cell_type": "code",
      "source": [
        "import time\n",
        "\n",
        "index_name = \"langchain-test-index\"\n",
        "\n",
        "existing_indexes = [index_info[\"name\"] for index_info in pc.list_indexes()]\n",
        "\n",
        "if index_name not in existing_indexes:\n",
        "    pc.create_index(\n",
        "        name=index_name,\n",
        "        dimension=768,\n",
        "        metric=\"cosine\",\n",
        "        spec=ServerlessSpec(cloud=\"aws\", region=\"us-east-1\"),\n",
        "    )\n",
        "    while not pc.describe_index(index_name).status[\"ready\"]:\n",
        "        time.sleep(1)\n",
        "\n",
        "index = pc.Index(index_name)"
      ],
      "metadata": {
        "id": "kStmjtkOaxOZ"
      },
      "execution_count": 3,
      "outputs": []
    },
    {
      "cell_type": "code",
      "source": [
        "from langchain_google_genai import GoogleGenerativeAIEmbeddings\n",
        "\n",
        "os.environ[\"GOOGLE_API_KEY\"] = userdata.get(\"GOOGLE_API_KEY\")\n",
        "\n",
        "embeddings = GoogleGenerativeAIEmbeddings(model=\"models/embedding-001\")\n",
        "vector = embeddings.embed_query(\"Hello World\")\n",
        "vector[:7]"
      ],
      "metadata": {
        "id": "sgTETABqX1v1",
        "outputId": "ccd7887f-2fba-4620-a843-db2c6f2107a1",
        "colab": {
          "base_uri": "https://localhost:8080/"
        }
      },
      "execution_count": 4,
      "outputs": [
        {
          "output_type": "execute_result",
          "data": {
            "text/plain": [
              "[0.04656680300831795,\n",
              " -0.0376756377518177,\n",
              " -0.0274836253374815,\n",
              " -0.02519204653799534,\n",
              " 0.023942284286022186,\n",
              " -0.0026659469585865736,\n",
              " 0.03314977511763573]"
            ]
          },
          "metadata": {},
          "execution_count": 4
        }
      ]
    },
    {
      "cell_type": "code",
      "source": [
        "from langchain_pinecone import PineconeVectorStore\n",
        "\n",
        "vector_store = PineconeVectorStore(index=index, embedding=embeddings)"
      ],
      "metadata": {
        "id": "M_-BEcq9bI8M"
      },
      "execution_count": 5,
      "outputs": []
    },
    {
      "cell_type": "code",
      "source": [
        "from uuid import uuid4\n",
        "from langchain_core.documents import Document\n",
        "\n",
        "document_1 = Document(\n",
        "    page_content=\"I had chocalate chip pancakes and scrambled eggs for breakfast this morning.\",\n",
        "    metadata={\"source\": \"tweet\"},\n",
        ")\n",
        "\n",
        "document_2 = Document(\n",
        "    page_content=\"The weather forecast for tomorrow is cloudy and overcast, with a high of 62 degrees.\",\n",
        "    metadata={\"source\": \"news\"},\n",
        ")\n",
        "\n",
        "document_3 = Document(\n",
        "    page_content=\"Building an exciting new project with LangChain - come check it out!\",\n",
        "    metadata={\"source\": \"tweet\"},\n",
        ")\n",
        "\n",
        "document_4 = Document(\n",
        "    page_content=\"Robbers broke into the city bank and stole $1 million in cash.\",\n",
        "    metadata={\"source\": \"news\"},\n",
        ")\n",
        "\n",
        "document_5 = Document(\n",
        "    page_content=\"Wow! That was an amazing movie. I can't wait to see it again.\",\n",
        "    metadata={\"source\": \"tweet\"},\n",
        ")\n",
        "\n",
        "document_6 = Document(\n",
        "    page_content=\"Is the new iPhone worth the price? Read this review to find out.\",\n",
        "    metadata={\"source\": \"website\"},\n",
        ")\n",
        "\n",
        "document_7 = Document(\n",
        "    page_content=\"The top 10 soccer players in the world right now.\",\n",
        "    metadata={\"source\": \"website\"},\n",
        ")\n",
        "\n",
        "document_8 = Document(\n",
        "    page_content=\"LangGraph is the best framework for building stateful, agentic applications!\",\n",
        "    metadata={\"source\": \"tweet\"},\n",
        ")\n",
        "\n",
        "document_9 = Document(\n",
        "    page_content=\"The stock market is down 500 points today due to fears of a recession.\",\n",
        "    metadata={\"source\": \"news\"},\n",
        ")\n",
        "\n",
        "document_10 = Document(\n",
        "    page_content=\"I have a bad feeling I am going to get deleted :(\",\n",
        "    metadata={\"source\": \"tweet\"},\n",
        ")\n",
        "\n",
        "documents = [\n",
        "    document_1,\n",
        "    document_2,\n",
        "    document_3,\n",
        "    document_4,\n",
        "    document_5,\n",
        "    document_6,\n",
        "    document_7,\n",
        "    document_8,\n",
        "    document_9,\n",
        "    document_10,\n",
        "]\n",
        "uuids = [str(uuid4()) for _ in range(len(documents))]\n",
        "\n",
        "vector_store.add_documents(documents=documents, ids=uuids)"
      ],
      "metadata": {
        "id": "drQB5j65bUXd",
        "outputId": "dc49f028-22d1-48b4-d7f0-210cb2d19b09",
        "colab": {
          "base_uri": "https://localhost:8080/"
        }
      },
      "execution_count": 6,
      "outputs": [
        {
          "output_type": "execute_result",
          "data": {
            "text/plain": [
              "['81185244-25b0-41e3-9eaf-1a1ad0f851b5',\n",
              " 'c34dd7c5-2ce0-409a-9d80-3ed7f458c7c1',\n",
              " 'dce2fd05-54aa-4c75-b19a-97811d68ff91',\n",
              " 'dde093fc-1324-449f-8708-03a2a594c295',\n",
              " 'c78c66c1-4688-4369-baa0-0e2194279277',\n",
              " '313d4794-8d1a-49db-a33c-f47b6c2eb844',\n",
              " 'd75cf0c5-778b-465e-bf7a-96642d5bbf57',\n",
              " '99ed24ea-6cce-42ac-afcd-99497792b3e1',\n",
              " '4b4ec43a-d323-4122-a94a-e6279f226192',\n",
              " '01315018-37fa-4445-8bef-4214636ba5a5']"
            ]
          },
          "metadata": {},
          "execution_count": 6
        }
      ]
    },
    {
      "cell_type": "code",
      "source": [
        "result = vector_store.similarity_search(\"What is LangChain ?\")\n",
        "\n",
        "for res in result:\n",
        "  print(f\"Content: {res.page_content}   Source: {res.metadata}\")"
      ],
      "metadata": {
        "id": "FHAMZuMo3Wq1",
        "outputId": "f6579b66-6468-4550-ed41-5bebf7fed810",
        "colab": {
          "base_uri": "https://localhost:8080/"
        }
      },
      "execution_count": 9,
      "outputs": [
        {
          "output_type": "stream",
          "name": "stdout",
          "text": [
            "Content: Building an exciting new project with LangChain - come check it out!   Source: {'source': 'tweet'}\n",
            "Content: LangGraph is the best framework for building stateful, agentic applications!   Source: {'source': 'tweet'}\n",
            "Content: I have a bad feeling I am going to get deleted :(   Source: {'source': 'tweet'}\n",
            "Content: I had chocalate chip pancakes and scrambled eggs for breakfast this morning.   Source: {'source': 'tweet'}\n"
          ]
        }
      ]
    },
    {
      "cell_type": "code",
      "source": [
        "result = vector_store.similarity_search_with_score(\"What is LangChain ?\")\n",
        "\n",
        "# result\n",
        "for res, score in result:\n",
        "  print(f\"Score: {score}  Content: {res.page_content}   Source: {res.metadata}\")"
      ],
      "metadata": {
        "id": "J-m6Jut1_VJu",
        "outputId": "af35448c-de9d-4f50-bc29-e7d458e49683",
        "colab": {
          "base_uri": "https://localhost:8080/"
        }
      },
      "execution_count": 12,
      "outputs": [
        {
          "output_type": "stream",
          "name": "stdout",
          "text": [
            "Score: 0.718181193  Content: Building an exciting new project with LangChain - come check it out!   Source: {'source': 'tweet'}\n",
            "Score: 0.681360066  Content: LangGraph is the best framework for building stateful, agentic applications!   Source: {'source': 'tweet'}\n",
            "Score: 0.546544492  Content: I have a bad feeling I am going to get deleted :(   Source: {'source': 'tweet'}\n",
            "Score: 0.518182695  Content: I had chocalate chip pancakes and scrambled eggs for breakfast this morning.   Source: {'source': 'tweet'}\n"
          ]
        }
      ]
    }
  ],
  "metadata": {
    "language_info": {
      "name": "python"
    },
    "colab": {
      "provenance": []
    },
    "kernelspec": {
      "name": "python3",
      "display_name": "Python 3"
    }
  },
  "nbformat": 4,
  "nbformat_minor": 0
}